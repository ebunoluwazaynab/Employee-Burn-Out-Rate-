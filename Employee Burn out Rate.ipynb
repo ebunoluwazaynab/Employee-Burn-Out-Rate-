{
 "cells": [
  {
   "cell_type": "markdown",
   "id": "468a645e",
   "metadata": {},
   "source": [
    "#### Steps\n",
    "* Exploratory Data Analysis\n",
    "* Cleaning and preprocessing\n",
    "* Scaling\n",
    "* Model Training and Evaluation"
   ]
  },
  {
   "cell_type": "code",
   "execution_count": 1,
   "id": "63733ba2",
   "metadata": {},
   "outputs": [],
   "source": [
    "# import libraries\n",
    "\n",
    "# For loading Packages\n",
    "import pandas as pd\n",
    "pd.set_option('max_columns', None)\n",
    "pd.set_option('max_rows', 100)\n",
    "\n",
    "# For mathematical calculations\n",
    "import numpy as np\n",
    "\n",
    "# For data visualization\n",
    "import matplotlib.pyplot as plt\n",
    "import seaborn as sns\n",
    "sns.set_style(\"darkgrid\")\n",
    "\n",
    "# To build and evaluate model\n",
    "import scipy.stats\n",
    "from sklearn.model_selection import train_test_split, cross_val_score\n",
    "from sklearn.neighbors import KNeighborsRegressor\n",
    "from sklearn.preprocessing import StandardScaler\n",
    "from sklearn.feature_selection import mutual_info_regression\n",
    "from catboost import CatBoostRegressor\n",
    "from sklearn.model_selection import KFold, cross_val_score, GridSearchCV\n",
    "from sklearn.linear_model import LinearRegression, Ridge, Lasso\n",
    "from sklearn.tree import DecisionTreeRegressor\n",
    "from sklearn.ensemble import RandomForestRegressor, GradientBoostingRegressor\n",
    "\n",
    "# To ignore any warnings\n",
    "import warnings\n",
    "warnings.filterwarnings(\"ignore\")"
   ]
  },
  {
   "cell_type": "code",
   "execution_count": 2,
   "id": "c4f746e0",
   "metadata": {},
   "outputs": [],
   "source": [
    "# store train and test dataset in a dataframe\n",
    "train_df = pd.read_csv(\"train_burn_out_rate.csv\")\n",
    "test_df = pd.read_csv(\"test_burn_out_rate.csv\")"
   ]
  },
  {
   "cell_type": "code",
   "execution_count": 3,
   "id": "7d5d0141",
   "metadata": {},
   "outputs": [
    {
     "data": {
      "text/html": [
       "<div>\n",
       "<style scoped>\n",
       "    .dataframe tbody tr th:only-of-type {\n",
       "        vertical-align: middle;\n",
       "    }\n",
       "\n",
       "    .dataframe tbody tr th {\n",
       "        vertical-align: top;\n",
       "    }\n",
       "\n",
       "    .dataframe thead th {\n",
       "        text-align: right;\n",
       "    }\n",
       "</style>\n",
       "<table border=\"1\" class=\"dataframe\">\n",
       "  <thead>\n",
       "    <tr style=\"text-align: right;\">\n",
       "      <th></th>\n",
       "      <th>Employee ID</th>\n",
       "      <th>Date of Joining</th>\n",
       "      <th>Gender</th>\n",
       "      <th>Company Type</th>\n",
       "      <th>WFH Setup Available</th>\n",
       "      <th>Designation</th>\n",
       "      <th>Resource Allocation</th>\n",
       "      <th>Mental Fatigue Score</th>\n",
       "      <th>Burn Rate</th>\n",
       "    </tr>\n",
       "  </thead>\n",
       "  <tbody>\n",
       "    <tr>\n",
       "      <th>0</th>\n",
       "      <td>fffe32003000360033003200</td>\n",
       "      <td>2008-09-30</td>\n",
       "      <td>Female</td>\n",
       "      <td>Service</td>\n",
       "      <td>No</td>\n",
       "      <td>2.0</td>\n",
       "      <td>3.0</td>\n",
       "      <td>3.8</td>\n",
       "      <td>0.16</td>\n",
       "    </tr>\n",
       "    <tr>\n",
       "      <th>1</th>\n",
       "      <td>fffe3700360033003500</td>\n",
       "      <td>2008-11-30</td>\n",
       "      <td>Male</td>\n",
       "      <td>Service</td>\n",
       "      <td>Yes</td>\n",
       "      <td>1.0</td>\n",
       "      <td>2.0</td>\n",
       "      <td>5.0</td>\n",
       "      <td>0.36</td>\n",
       "    </tr>\n",
       "    <tr>\n",
       "      <th>2</th>\n",
       "      <td>fffe31003300320037003900</td>\n",
       "      <td>2008-03-10</td>\n",
       "      <td>Female</td>\n",
       "      <td>Product</td>\n",
       "      <td>Yes</td>\n",
       "      <td>2.0</td>\n",
       "      <td>NaN</td>\n",
       "      <td>5.8</td>\n",
       "      <td>0.49</td>\n",
       "    </tr>\n",
       "    <tr>\n",
       "      <th>3</th>\n",
       "      <td>fffe32003400380032003900</td>\n",
       "      <td>2008-11-03</td>\n",
       "      <td>Male</td>\n",
       "      <td>Service</td>\n",
       "      <td>Yes</td>\n",
       "      <td>1.0</td>\n",
       "      <td>1.0</td>\n",
       "      <td>2.6</td>\n",
       "      <td>0.20</td>\n",
       "    </tr>\n",
       "    <tr>\n",
       "      <th>4</th>\n",
       "      <td>fffe31003900340031003600</td>\n",
       "      <td>2008-07-24</td>\n",
       "      <td>Female</td>\n",
       "      <td>Service</td>\n",
       "      <td>No</td>\n",
       "      <td>3.0</td>\n",
       "      <td>7.0</td>\n",
       "      <td>6.9</td>\n",
       "      <td>0.52</td>\n",
       "    </tr>\n",
       "    <tr>\n",
       "      <th>...</th>\n",
       "      <td>...</td>\n",
       "      <td>...</td>\n",
       "      <td>...</td>\n",
       "      <td>...</td>\n",
       "      <td>...</td>\n",
       "      <td>...</td>\n",
       "      <td>...</td>\n",
       "      <td>...</td>\n",
       "      <td>...</td>\n",
       "    </tr>\n",
       "    <tr>\n",
       "      <th>22745</th>\n",
       "      <td>fffe31003500370039003100</td>\n",
       "      <td>2008-12-30</td>\n",
       "      <td>Female</td>\n",
       "      <td>Service</td>\n",
       "      <td>No</td>\n",
       "      <td>1.0</td>\n",
       "      <td>3.0</td>\n",
       "      <td>NaN</td>\n",
       "      <td>0.41</td>\n",
       "    </tr>\n",
       "    <tr>\n",
       "      <th>22746</th>\n",
       "      <td>fffe33003000350031003800</td>\n",
       "      <td>2008-01-19</td>\n",
       "      <td>Female</td>\n",
       "      <td>Product</td>\n",
       "      <td>Yes</td>\n",
       "      <td>3.0</td>\n",
       "      <td>6.0</td>\n",
       "      <td>6.7</td>\n",
       "      <td>0.59</td>\n",
       "    </tr>\n",
       "    <tr>\n",
       "      <th>22747</th>\n",
       "      <td>fffe390032003000</td>\n",
       "      <td>2008-11-05</td>\n",
       "      <td>Male</td>\n",
       "      <td>Service</td>\n",
       "      <td>Yes</td>\n",
       "      <td>3.0</td>\n",
       "      <td>7.0</td>\n",
       "      <td>NaN</td>\n",
       "      <td>0.72</td>\n",
       "    </tr>\n",
       "    <tr>\n",
       "      <th>22748</th>\n",
       "      <td>fffe33003300320036003900</td>\n",
       "      <td>2008-01-10</td>\n",
       "      <td>Female</td>\n",
       "      <td>Service</td>\n",
       "      <td>No</td>\n",
       "      <td>2.0</td>\n",
       "      <td>5.0</td>\n",
       "      <td>5.9</td>\n",
       "      <td>0.52</td>\n",
       "    </tr>\n",
       "    <tr>\n",
       "      <th>22749</th>\n",
       "      <td>fffe3400350031003800</td>\n",
       "      <td>2008-01-06</td>\n",
       "      <td>Male</td>\n",
       "      <td>Product</td>\n",
       "      <td>No</td>\n",
       "      <td>3.0</td>\n",
       "      <td>6.0</td>\n",
       "      <td>7.8</td>\n",
       "      <td>0.61</td>\n",
       "    </tr>\n",
       "  </tbody>\n",
       "</table>\n",
       "<p>22750 rows × 9 columns</p>\n",
       "</div>"
      ],
      "text/plain": [
       "                    Employee ID Date of Joining  Gender Company Type  \\\n",
       "0      fffe32003000360033003200      2008-09-30  Female      Service   \n",
       "1          fffe3700360033003500      2008-11-30    Male      Service   \n",
       "2      fffe31003300320037003900      2008-03-10  Female      Product   \n",
       "3      fffe32003400380032003900      2008-11-03    Male      Service   \n",
       "4      fffe31003900340031003600      2008-07-24  Female      Service   \n",
       "...                         ...             ...     ...          ...   \n",
       "22745  fffe31003500370039003100      2008-12-30  Female      Service   \n",
       "22746  fffe33003000350031003800      2008-01-19  Female      Product   \n",
       "22747          fffe390032003000      2008-11-05    Male      Service   \n",
       "22748  fffe33003300320036003900      2008-01-10  Female      Service   \n",
       "22749      fffe3400350031003800      2008-01-06    Male      Product   \n",
       "\n",
       "      WFH Setup Available  Designation  Resource Allocation  \\\n",
       "0                      No          2.0                  3.0   \n",
       "1                     Yes          1.0                  2.0   \n",
       "2                     Yes          2.0                  NaN   \n",
       "3                     Yes          1.0                  1.0   \n",
       "4                      No          3.0                  7.0   \n",
       "...                   ...          ...                  ...   \n",
       "22745                  No          1.0                  3.0   \n",
       "22746                 Yes          3.0                  6.0   \n",
       "22747                 Yes          3.0                  7.0   \n",
       "22748                  No          2.0                  5.0   \n",
       "22749                  No          3.0                  6.0   \n",
       "\n",
       "       Mental Fatigue Score  Burn Rate  \n",
       "0                       3.8       0.16  \n",
       "1                       5.0       0.36  \n",
       "2                       5.8       0.49  \n",
       "3                       2.6       0.20  \n",
       "4                       6.9       0.52  \n",
       "...                     ...        ...  \n",
       "22745                   NaN       0.41  \n",
       "22746                   6.7       0.59  \n",
       "22747                   NaN       0.72  \n",
       "22748                   5.9       0.52  \n",
       "22749                   7.8       0.61  \n",
       "\n",
       "[22750 rows x 9 columns]"
      ]
     },
     "execution_count": 3,
     "metadata": {},
     "output_type": "execute_result"
    }
   ],
   "source": [
    "# View the train dataset \n",
    "train_df"
   ]
  },
  {
   "cell_type": "code",
   "execution_count": 4,
   "id": "36a7a262",
   "metadata": {},
   "outputs": [
    {
     "data": {
      "text/html": [
       "<div>\n",
       "<style scoped>\n",
       "    .dataframe tbody tr th:only-of-type {\n",
       "        vertical-align: middle;\n",
       "    }\n",
       "\n",
       "    .dataframe tbody tr th {\n",
       "        vertical-align: top;\n",
       "    }\n",
       "\n",
       "    .dataframe thead th {\n",
       "        text-align: right;\n",
       "    }\n",
       "</style>\n",
       "<table border=\"1\" class=\"dataframe\">\n",
       "  <thead>\n",
       "    <tr style=\"text-align: right;\">\n",
       "      <th></th>\n",
       "      <th>Employee ID</th>\n",
       "      <th>Date of Joining</th>\n",
       "      <th>Gender</th>\n",
       "      <th>Company Type</th>\n",
       "      <th>WFH Setup Available</th>\n",
       "      <th>Designation</th>\n",
       "      <th>Resource Allocation</th>\n",
       "      <th>Mental Fatigue Score</th>\n",
       "    </tr>\n",
       "  </thead>\n",
       "  <tbody>\n",
       "    <tr>\n",
       "      <th>0</th>\n",
       "      <td>fffe31003300390039003000</td>\n",
       "      <td>2008-12-10</td>\n",
       "      <td>Female</td>\n",
       "      <td>Service</td>\n",
       "      <td>No</td>\n",
       "      <td>2.0</td>\n",
       "      <td>5.0</td>\n",
       "      <td>7.7</td>\n",
       "    </tr>\n",
       "    <tr>\n",
       "      <th>1</th>\n",
       "      <td>fffe31003300310037003800</td>\n",
       "      <td>2008-08-14</td>\n",
       "      <td>Female</td>\n",
       "      <td>Product</td>\n",
       "      <td>Yes</td>\n",
       "      <td>1.0</td>\n",
       "      <td>2.0</td>\n",
       "      <td>5.2</td>\n",
       "    </tr>\n",
       "    <tr>\n",
       "      <th>2</th>\n",
       "      <td>fffe33003400380035003900</td>\n",
       "      <td>2008-11-13</td>\n",
       "      <td>Male</td>\n",
       "      <td>Product</td>\n",
       "      <td>Yes</td>\n",
       "      <td>1.0</td>\n",
       "      <td>3.0</td>\n",
       "      <td>5.9</td>\n",
       "    </tr>\n",
       "    <tr>\n",
       "      <th>3</th>\n",
       "      <td>fffe3100370039003200</td>\n",
       "      <td>2008-02-07</td>\n",
       "      <td>Female</td>\n",
       "      <td>Service</td>\n",
       "      <td>No</td>\n",
       "      <td>3.0</td>\n",
       "      <td>6.0</td>\n",
       "      <td>4.6</td>\n",
       "    </tr>\n",
       "    <tr>\n",
       "      <th>4</th>\n",
       "      <td>fffe32003600390036003700</td>\n",
       "      <td>2008-07-17</td>\n",
       "      <td>Female</td>\n",
       "      <td>Product</td>\n",
       "      <td>No</td>\n",
       "      <td>2.0</td>\n",
       "      <td>5.0</td>\n",
       "      <td>6.4</td>\n",
       "    </tr>\n",
       "    <tr>\n",
       "      <th>...</th>\n",
       "      <td>...</td>\n",
       "      <td>...</td>\n",
       "      <td>...</td>\n",
       "      <td>...</td>\n",
       "      <td>...</td>\n",
       "      <td>...</td>\n",
       "      <td>...</td>\n",
       "      <td>...</td>\n",
       "    </tr>\n",
       "    <tr>\n",
       "      <th>12245</th>\n",
       "      <td>fffe3900310034003700</td>\n",
       "      <td>2008-10-02</td>\n",
       "      <td>Female</td>\n",
       "      <td>Service</td>\n",
       "      <td>Yes</td>\n",
       "      <td>1.0</td>\n",
       "      <td>2.0</td>\n",
       "      <td>6.1</td>\n",
       "    </tr>\n",
       "    <tr>\n",
       "      <th>12246</th>\n",
       "      <td>fffe32003600330034003000</td>\n",
       "      <td>2008-03-31</td>\n",
       "      <td>Female</td>\n",
       "      <td>Product</td>\n",
       "      <td>Yes</td>\n",
       "      <td>2.0</td>\n",
       "      <td>4.0</td>\n",
       "      <td>5.9</td>\n",
       "    </tr>\n",
       "    <tr>\n",
       "      <th>12247</th>\n",
       "      <td>fffe31003800340039003000</td>\n",
       "      <td>2008-02-12</td>\n",
       "      <td>Male</td>\n",
       "      <td>Service</td>\n",
       "      <td>No</td>\n",
       "      <td>4.0</td>\n",
       "      <td>7.0</td>\n",
       "      <td>9.6</td>\n",
       "    </tr>\n",
       "    <tr>\n",
       "      <th>12248</th>\n",
       "      <td>fffe32003600380031003800</td>\n",
       "      <td>2008-02-06</td>\n",
       "      <td>Male</td>\n",
       "      <td>Service</td>\n",
       "      <td>No</td>\n",
       "      <td>3.0</td>\n",
       "      <td>6.0</td>\n",
       "      <td>6.7</td>\n",
       "    </tr>\n",
       "    <tr>\n",
       "      <th>12249</th>\n",
       "      <td>fffe32003100390037003800</td>\n",
       "      <td>2008-08-05</td>\n",
       "      <td>Female</td>\n",
       "      <td>Product</td>\n",
       "      <td>No</td>\n",
       "      <td>2.0</td>\n",
       "      <td>2.0</td>\n",
       "      <td>2.0</td>\n",
       "    </tr>\n",
       "  </tbody>\n",
       "</table>\n",
       "<p>12250 rows × 8 columns</p>\n",
       "</div>"
      ],
      "text/plain": [
       "                    Employee ID Date of Joining  Gender Company Type  \\\n",
       "0      fffe31003300390039003000      2008-12-10  Female      Service   \n",
       "1      fffe31003300310037003800      2008-08-14  Female      Product   \n",
       "2      fffe33003400380035003900      2008-11-13    Male      Product   \n",
       "3          fffe3100370039003200      2008-02-07  Female      Service   \n",
       "4      fffe32003600390036003700      2008-07-17  Female      Product   \n",
       "...                         ...             ...     ...          ...   \n",
       "12245      fffe3900310034003700      2008-10-02  Female      Service   \n",
       "12246  fffe32003600330034003000      2008-03-31  Female      Product   \n",
       "12247  fffe31003800340039003000      2008-02-12    Male      Service   \n",
       "12248  fffe32003600380031003800      2008-02-06    Male      Service   \n",
       "12249  fffe32003100390037003800      2008-08-05  Female      Product   \n",
       "\n",
       "      WFH Setup Available  Designation  Resource Allocation  \\\n",
       "0                      No          2.0                  5.0   \n",
       "1                     Yes          1.0                  2.0   \n",
       "2                     Yes          1.0                  3.0   \n",
       "3                      No          3.0                  6.0   \n",
       "4                      No          2.0                  5.0   \n",
       "...                   ...          ...                  ...   \n",
       "12245                 Yes          1.0                  2.0   \n",
       "12246                 Yes          2.0                  4.0   \n",
       "12247                  No          4.0                  7.0   \n",
       "12248                  No          3.0                  6.0   \n",
       "12249                  No          2.0                  2.0   \n",
       "\n",
       "       Mental Fatigue Score  \n",
       "0                       7.7  \n",
       "1                       5.2  \n",
       "2                       5.9  \n",
       "3                       4.6  \n",
       "4                       6.4  \n",
       "...                     ...  \n",
       "12245                   6.1  \n",
       "12246                   5.9  \n",
       "12247                   9.6  \n",
       "12248                   6.7  \n",
       "12249                   2.0  \n",
       "\n",
       "[12250 rows x 8 columns]"
      ]
     },
     "execution_count": 4,
     "metadata": {},
     "output_type": "execute_result"
    }
   ],
   "source": [
    "# View the test dataset \n",
    "test_df"
   ]
  },
  {
   "cell_type": "code",
   "execution_count": 5,
   "id": "2e243fe6",
   "metadata": {},
   "outputs": [
    {
     "name": "stdout",
     "output_type": "stream",
     "text": [
      "(22750, 9) (12250, 8)\n"
     ]
    }
   ],
   "source": [
    "# Print the shape of train and test dataset\n",
    "print(train_df.shape, test_df.shape)"
   ]
  },
  {
   "cell_type": "markdown",
   "id": "86f43e96",
   "metadata": {},
   "source": [
    "#### Exploratory Data Analysis"
   ]
  },
  {
   "cell_type": "code",
   "execution_count": 6,
   "id": "cdc5247b",
   "metadata": {},
   "outputs": [
    {
     "name": "stdout",
     "output_type": "stream",
     "text": [
      "<class 'pandas.core.frame.DataFrame'>\n",
      "RangeIndex: 22750 entries, 0 to 22749\n",
      "Data columns (total 9 columns):\n",
      " #   Column                Non-Null Count  Dtype  \n",
      "---  ------                --------------  -----  \n",
      " 0   Employee ID           22750 non-null  object \n",
      " 1   Date of Joining       22750 non-null  object \n",
      " 2   Gender                22750 non-null  object \n",
      " 3   Company Type          22750 non-null  object \n",
      " 4   WFH Setup Available   22750 non-null  object \n",
      " 5   Designation           22750 non-null  float64\n",
      " 6   Resource Allocation   21369 non-null  float64\n",
      " 7   Mental Fatigue Score  20633 non-null  float64\n",
      " 8   Burn Rate             21626 non-null  float64\n",
      "dtypes: float64(4), object(5)\n",
      "memory usage: 1.6+ MB\n"
     ]
    }
   ],
   "source": [
    "# print information about the train_df\n",
    "train_df.info()"
   ]
  },
  {
   "cell_type": "markdown",
   "id": "1bd675db",
   "metadata": {},
   "source": [
    "##### Univariate Analysis"
   ]
  },
  {
   "cell_type": "code",
   "execution_count": 7,
   "id": "91a2e381",
   "metadata": {},
   "outputs": [
    {
     "data": {
      "image/png": "[encoded data removed]",
      "text/plain": [
       "<Figure size 1152x360 with 2 Axes>"
      ]
     },
     "metadata": {},
     "output_type": "display_data"
    }
   ],
   "source": [
    "# Visualize target variable\n",
    "plt.figure(1)\n",
    "plt.subplot(121)\n",
    "sns.distplot(train_df['Burn Rate']);\n",
    "plt.subplot(122)\n",
    "train_df['Burn Rate'].plot.box(figsize = (16, 5));\n",
    "plt.show()"
   ]
  },
  {
   "cell_type": "markdown",
   "id": "3fa13d52",
   "metadata": {},
   "source": [
    "It can be seen that the distribution of the values of the target feature in the train dataset is normally distributed and outliers are not present"
   ]
  },
  {
   "cell_type": "code",
   "execution_count": 8,
   "id": "36f8250e",
   "metadata": {},
   "outputs": [
    {
     "data": {
      "text/plain": [
       "<AxesSubplot:title={'center':'WFH Setup Available'}>"
      ]
     },
     "execution_count": 8,
     "metadata": {},
     "output_type": "execute_result"
    },
    {
     "data": {
      "image/png": "[encoded data removed]",
      "text/plain": [
       "<Figure size 1440x720 with 3 Axes>"
      ]
     },
     "metadata": {},
     "output_type": "display_data"
    }
   ],
   "source": [
    "# Visualize independent categorical features in the train dataset\n",
    "plt.figure(1) \n",
    "plt.subplot(221)\n",
    "train_df['Gender'].value_counts(normalize = True).plot.bar(figsize = (20, 10), title = 'Gender')\n",
    "plt.subplot(222)\n",
    "train_df['Company Type'].value_counts(normalize = True).plot.bar(title = 'Company Type')\n",
    "plt.subplot(223)\n",
    "train_df['WFH Setup Available'].value_counts(normalize = True).plot.bar(title = 'WFH Setup Available')"
   ]
  },
  {
   "cell_type": "markdown",
   "id": "ac7c0ab4",
   "metadata": {},
   "source": [
    "It can be inferred from the barplots above that:\n",
    "* there are more females than males in the train dataset\n",
    "* the no of employees in the train dataset that have the WorkFromHome setup available to them are more than those that don't\n",
    "* the no of employees working in a company that provides services is more than the no of those working in a company that makes products in the train dataset"
   ]
  },
  {
   "cell_type": "code",
   "execution_count": 9,
   "id": "e8b4f435",
   "metadata": {},
   "outputs": [
    {
     "data": {
      "text/plain": [
       "<AxesSubplot:title={'center':'Resource Allocation'}>"
      ]
     },
     "execution_count": 9,
     "metadata": {},
     "output_type": "execute_result"
    },
    {
     "data": {
      "image/png": "[encoded data removed]",
      "text/plain": [
       "<Figure size 1728x432 with 2 Axes>"
      ]
     },
     "metadata": {},
     "output_type": "display_data"
    }
   ],
   "source": [
    "# Visualize independent ordinal features\n",
    "plt.figure(1) \n",
    "plt.subplot(131)\n",
    "train_df['Designation'].value_counts(normalize = True).plot.bar(figsize = (24, 6), title = 'Designation')\n",
    "plt.subplot(132)\n",
    "train_df['Resource Allocation'].value_counts(normalize = True).plot.bar(title = 'Resource Allocation')"
   ]
  },
  {
   "cell_type": "markdown",
   "id": "d9b7ca7d",
   "metadata": {},
   "source": [
    "It can be inferred from the barplots above that:\n",
    "* the most common designation of the employees in the train dataset is 2.0 followed by 3.0 while the least common is 5.0 followed by 0.0\n",
    "* Most employees in the train dataset work for 4-5 hours"
   ]
  },
  {
   "cell_type": "code",
   "execution_count": 10,
   "id": "23e04d5b",
   "metadata": {},
   "outputs": [
    {
     "data": {
      "image/png": "[encoded data removed]",
      "text/plain": [
       "<Figure size 1152x360 with 2 Axes>"
      ]
     },
     "metadata": {},
     "output_type": "display_data"
    }
   ],
   "source": [
    "# Visualize numerical feature (Mental Fatigue Score)\n",
    "plt.figure(1)\n",
    "plt.subplot(121)\n",
    "sns.distplot(train_df['Mental Fatigue Score']);\n",
    "plt.subplot(122)\n",
    "train_df['Mental Fatigue Score'].plot.box(figsize = (16, 5));\n",
    "plt.show()"
   ]
  },
  {
   "cell_type": "markdown",
   "id": "0aae0b4a",
   "metadata": {},
   "source": [
    "It can be seen that the distribution of the Mental Fatigue Score is fairly normal and there are some outliers"
   ]
  },
  {
   "cell_type": "markdown",
   "id": "da4e53fe",
   "metadata": {},
   "source": [
    "##### Bivariate Analysis"
   ]
  },
  {
   "cell_type": "code",
   "execution_count": 11,
   "id": "2e80e36a",
   "metadata": {},
   "outputs": [
    {
     "data": {
      "text/plain": [
       "<AxesSubplot:xlabel='Gender', ylabel='Burn Rate'>"
      ]
     },
     "execution_count": 11,
     "metadata": {},
     "output_type": "execute_result"
    },
    {
     "data": {
      "image/png": "[encoded data removed]",
      "text/plain": [
       "<Figure size 1152x720 with 4 Axes>"
      ]
     },
     "metadata": {},
     "output_type": "display_data"
    }
   ],
   "source": [
    "# Gender feature \n",
    "fig, axes = plt.subplots(2, 2, figsize = (16, 10))\n",
    "\n",
    "# Mental Fatigue Score vs Gender\n",
    "sns.boxplot(data = train_df, x = \"Gender\", y = \"Mental Fatigue Score\", ax = axes[0, 0])\n",
    "# Resource Allocation vs Gender\n",
    "sns.boxplot(data = train_df, x = \"Gender\", y = \"Resource Allocation\", ax = axes[0, 1])\n",
    "# Burn Rate vs Gender\n",
    "sns.boxplot(data = train_df, x = \"Gender\", y = \"Burn Rate\", ax = axes[1, 0])"
   ]
  },
  {
   "cell_type": "markdown",
   "id": "56ebb287",
   "metadata": {},
   "source": [
    "It looks like more resources are allocated to Males, and the Mental Fatigue Score and Burn Rate of Males are higher than that of Females"
   ]
  },
  {
   "cell_type": "code",
   "execution_count": 12,
   "id": "13f78b08",
   "metadata": {},
   "outputs": [
    {
     "data": {
      "text/plain": [
       "<AxesSubplot:xlabel='Company Type', ylabel='Burn Rate'>"
      ]
     },
     "execution_count": 12,
     "metadata": {},
     "output_type": "execute_result"
    },
    {
     "data": {
      "image/png": "[encoded data removed]",
      "text/plain": [
       "<Figure size 1152x720 with 4 Axes>"
      ]
     },
     "metadata": {},
     "output_type": "display_data"
    }
   ],
   "source": [
    "# Company Type feature\n",
    "fig, axes = plt.subplots(2, 2, figsize = (16, 10))\n",
    "\n",
    "# Designation vs Company Type\n",
    "sns.boxplot(data = train_df, x = \"Company Type\", y = \"Designation\", ax = axes[0, 0])\n",
    "# Mental Fatigue Score vs Company Type\n",
    "sns.boxplot(data = train_df, x = \"Company Type\", y = \"Mental Fatigue Score\", ax = axes[0, 1])\n",
    "# Resource Allocation vs Company Type\n",
    "sns.boxplot(data = train_df, x = \"Company Type\", y = \"Resource Allocation\", ax = axes[1, 0])\n",
    "# Burn Rate vs Company Type\n",
    "sns.boxplot(data = train_df, x = \"Company Type\", y = \"Burn Rate\", ax = axes[1, 1])"
   ]
  },
  {
   "cell_type": "markdown",
   "id": "b4e41ce4",
   "metadata": {},
   "source": [
    "It looks like the Company Type does not have any effect on the Resource Allocation, Designation, Mental Fatigue Score and Burn Rate"
   ]
  },
  {
   "cell_type": "code",
   "execution_count": 13,
   "id": "3cb84cc9",
   "metadata": {},
   "outputs": [
    {
     "data": {
      "text/plain": [
       "<AxesSubplot:xlabel='WFH Setup Available', ylabel='Burn Rate'>"
      ]
     },
     "execution_count": 13,
     "metadata": {},
     "output_type": "execute_result"
    },
    {
     "data": {
      "image/png": "[encoded data removed]",
      "text/plain": [
       "<Figure size 1152x720 with 4 Axes>"
      ]
     },
     "metadata": {},
     "output_type": "display_data"
    }
   ],
   "source": [
    "# WFH Setup Available feature\n",
    "fig, axes = plt.subplots(2, 2, figsize = (16, 10))\n",
    "\n",
    "# Mental Fatigue Score vs WFH Setup Available\n",
    "sns.boxplot(data = train_df, x = \"WFH Setup Available\", y = \"Mental Fatigue Score\", ax = axes[0, 0])\n",
    "# Resource Allocation vs WFH Setup Available\n",
    "sns.boxplot(data = train_df, x = \"WFH Setup Available\", y = \"Resource Allocation\", ax = axes[0, 1])\n",
    "# Burn Rate vs WFH Setup Available\n",
    "sns.boxplot(data = train_df, x = \"WFH Setup Available\", y = \"Burn Rate\", ax = axes[1, 0])"
   ]
  },
  {
   "cell_type": "markdown",
   "id": "b47036f6",
   "metadata": {},
   "source": [
    "It looks like those that have the Work From Home setup available to them have less Resources Allocated to them, less Mental Fatigue Score, and less Burn Rate"
   ]
  },
  {
   "cell_type": "code",
   "execution_count": 14,
   "id": "c279fe3e",
   "metadata": {},
   "outputs": [
    {
     "data": {
      "text/plain": [
       "<AxesSubplot:xlabel='Designation', ylabel='Burn Rate'>"
      ]
     },
     "execution_count": 14,
     "metadata": {},
     "output_type": "execute_result"
    },
    {
     "data": {
      "image/png": "[encoded data removed]",
      "text/plain": [
       "<Figure size 1152x720 with 4 Axes>"
      ]
     },
     "metadata": {},
     "output_type": "display_data"
    }
   ],
   "source": [
    "# Designation feature\n",
    "fig, axes = plt.subplots(2, 2, figsize = (16, 10))\n",
    "\n",
    "# Mental Fatigue Score vs Designation\n",
    "sns.boxplot(data = train_df, x = \"Designation\", y = \"Mental Fatigue Score\", ax = axes[0, 0])\n",
    "# Resource Allocation vs Designation\n",
    "sns.boxplot(data = train_df, x = \"Designation\", y = \"Resource Allocation\", ax = axes[0, 1])\n",
    "# Burn Rate vs Designation\n",
    "sns.boxplot(data = train_df, x = \"Designation\", y = \"Burn Rate\", ax = axes[1, 0])"
   ]
  },
  {
   "cell_type": "markdown",
   "id": "60558559",
   "metadata": {},
   "source": [
    "It seems like the designation of the employee increases with Mental Fatigue Score, Resource Allocation and Burn Rate"
   ]
  },
  {
   "cell_type": "code",
   "execution_count": 15,
   "id": "45bcdbdd",
   "metadata": {},
   "outputs": [
    {
     "data": {
      "text/plain": [
       "<seaborn.axisgrid.FacetGrid at 0x168da015640>"
      ]
     },
     "execution_count": 15,
     "metadata": {},
     "output_type": "execute_result"
    },
    {
     "data": {
      "image/png": "[encoded data removed]",
      "text/plain": [
       "<Figure size 360x360 with 1 Axes>"
      ]
     },
     "metadata": {},
     "output_type": "display_data"
    }
   ],
   "source": [
    "# Burn Rate vs Resource Allocation\n",
    "sns.catplot(x = 'Resource Allocation', y = 'Burn Rate', data = train_df)"
   ]
  },
  {
   "cell_type": "markdown",
   "id": "c9e35648",
   "metadata": {},
   "source": [
    "It can be seen from the plot above that the Burn Rate increases as the number of Resources Allocated to an employee increases"
   ]
  },
  {
   "cell_type": "code",
   "execution_count": 16,
   "id": "11ac1006",
   "metadata": {},
   "outputs": [
    {
     "data": {
      "text/plain": [
       "Text(0, 0.5, 'Burn Rate')"
      ]
     },
     "execution_count": 16,
     "metadata": {},
     "output_type": "execute_result"
    },
    {
     "data": {
      "image/png": "[encoded data removed]",
      "text/plain": [
       "<Figure size 432x288 with 1 Axes>"
      ]
     },
     "metadata": {},
     "output_type": "display_data"
    }
   ],
   "source": [
    "# Burn Rate vs Mental Fatigue Score\n",
    "plt.scatter(x = train_df['Mental Fatigue Score'], y = train_df['Burn Rate'])\n",
    "plt.xlabel('Mental Fatigue Score')\n",
    "plt.ylabel('Burn Rate')"
   ]
  },
  {
   "cell_type": "markdown",
   "id": "9da31e32",
   "metadata": {},
   "source": [
    "It can be seen from the plot above that the Burn Rate increases as the Mental Fatigue Score of an employee increases"
   ]
  },
  {
   "cell_type": "markdown",
   "id": "1771fa5e",
   "metadata": {},
   "source": [
    "#### Cleaning and Preprocessing"
   ]
  },
  {
   "cell_type": "code",
   "execution_count": 17,
   "id": "bbf67d4d",
   "metadata": {},
   "outputs": [
    {
     "data": {
      "text/plain": [
       "Employee ID                0\n",
       "Date of Joining            0\n",
       "Gender                     0\n",
       "Company Type               0\n",
       "WFH Setup Available        0\n",
       "Designation                0\n",
       "Resource Allocation     1381\n",
       "Mental Fatigue Score    2117\n",
       "Burn Rate               1124\n",
       "dtype: int64"
      ]
     },
     "execution_count": 17,
     "metadata": {},
     "output_type": "execute_result"
    }
   ],
   "source": [
    "# view sum of null values of each feature in the train dataset\n",
    "train_df.isna().sum()"
   ]
  },
  {
   "cell_type": "code",
   "execution_count": 18,
   "id": "00c5a3b3",
   "metadata": {},
   "outputs": [],
   "source": [
    "# drop rows with missing target\n",
    "missing_target_rows = train_df.loc[train_df[\"Burn Rate\"].isna(), :].index\n",
    "train_df = train_df.drop(missing_target_rows, axis = 0).reset_index(drop = True)"
   ]
  },
  {
   "cell_type": "code",
   "execution_count": 19,
   "id": "6f4b6ff2",
   "metadata": {},
   "outputs": [
    {
     "name": "stdout",
     "output_type": "stream",
     "text": [
      "<class 'pandas.core.frame.DataFrame'>\n",
      "RangeIndex: 21626 entries, 0 to 21625\n",
      "Data columns (total 9 columns):\n",
      " #   Column                Non-Null Count  Dtype  \n",
      "---  ------                --------------  -----  \n",
      " 0   Employee ID           21626 non-null  object \n",
      " 1   Date of Joining       21626 non-null  object \n",
      " 2   Gender                21626 non-null  object \n",
      " 3   Company Type          21626 non-null  object \n",
      " 4   WFH Setup Available   21626 non-null  object \n",
      " 5   Designation           21626 non-null  float64\n",
      " 6   Resource Allocation   20348 non-null  float64\n",
      " 7   Mental Fatigue Score  19681 non-null  float64\n",
      " 8   Burn Rate             21626 non-null  float64\n",
      "dtypes: float64(4), object(5)\n",
      "memory usage: 1.5+ MB\n"
     ]
    }
   ],
   "source": [
    "# print information about train_df\n",
    "train_df.info()"
   ]
  },
  {
   "cell_type": "code",
   "execution_count": 20,
   "id": "959ec23c",
   "metadata": {},
   "outputs": [
    {
     "name": "stdout",
     "output_type": "stream",
     "text": [
      "<class 'pandas.core.frame.DataFrame'>\n",
      "RangeIndex: 12250 entries, 0 to 12249\n",
      "Data columns (total 8 columns):\n",
      " #   Column                Non-Null Count  Dtype  \n",
      "---  ------                --------------  -----  \n",
      " 0   Employee ID           12250 non-null  object \n",
      " 1   Date of Joining       12250 non-null  object \n",
      " 2   Gender                12250 non-null  object \n",
      " 3   Company Type          12250 non-null  object \n",
      " 4   WFH Setup Available   12250 non-null  object \n",
      " 5   Designation           12250 non-null  float64\n",
      " 6   Resource Allocation   12250 non-null  float64\n",
      " 7   Mental Fatigue Score  12250 non-null  float64\n",
      "dtypes: float64(3), object(5)\n",
      "memory usage: 765.8+ KB\n"
     ]
    }
   ],
   "source": [
    "# print information about test_df\n",
    "test_df.info()"
   ]
  },
  {
   "cell_type": "code",
   "execution_count": 21,
   "id": "47c6e847",
   "metadata": {},
   "outputs": [
    {
     "data": {
      "text/html": [
       "<div>\n",
       "<style scoped>\n",
       "    .dataframe tbody tr th:only-of-type {\n",
       "        vertical-align: middle;\n",
       "    }\n",
       "\n",
       "    .dataframe tbody tr th {\n",
       "        vertical-align: top;\n",
       "    }\n",
       "\n",
       "    .dataframe thead th {\n",
       "        text-align: right;\n",
       "    }\n",
       "</style>\n",
       "<table border=\"1\" class=\"dataframe\">\n",
       "  <thead>\n",
       "    <tr style=\"text-align: right;\">\n",
       "      <th></th>\n",
       "      <th>Date of Joining</th>\n",
       "      <th>Gender</th>\n",
       "      <th>Company Type</th>\n",
       "      <th>WFH Setup Available</th>\n",
       "      <th>Designation</th>\n",
       "      <th>Resource Allocation</th>\n",
       "      <th>Mental Fatigue Score</th>\n",
       "    </tr>\n",
       "  </thead>\n",
       "  <tbody>\n",
       "    <tr>\n",
       "      <th>0</th>\n",
       "      <td>2008-09-30</td>\n",
       "      <td>Female</td>\n",
       "      <td>Service</td>\n",
       "      <td>No</td>\n",
       "      <td>2.0</td>\n",
       "      <td>3.0</td>\n",
       "      <td>3.8</td>\n",
       "    </tr>\n",
       "    <tr>\n",
       "      <th>1</th>\n",
       "      <td>2008-11-30</td>\n",
       "      <td>Male</td>\n",
       "      <td>Service</td>\n",
       "      <td>Yes</td>\n",
       "      <td>1.0</td>\n",
       "      <td>2.0</td>\n",
       "      <td>5.0</td>\n",
       "    </tr>\n",
       "    <tr>\n",
       "      <th>2</th>\n",
       "      <td>2008-03-10</td>\n",
       "      <td>Female</td>\n",
       "      <td>Product</td>\n",
       "      <td>Yes</td>\n",
       "      <td>2.0</td>\n",
       "      <td>NaN</td>\n",
       "      <td>5.8</td>\n",
       "    </tr>\n",
       "    <tr>\n",
       "      <th>3</th>\n",
       "      <td>2008-11-03</td>\n",
       "      <td>Male</td>\n",
       "      <td>Service</td>\n",
       "      <td>Yes</td>\n",
       "      <td>1.0</td>\n",
       "      <td>1.0</td>\n",
       "      <td>2.6</td>\n",
       "    </tr>\n",
       "    <tr>\n",
       "      <th>4</th>\n",
       "      <td>2008-07-24</td>\n",
       "      <td>Female</td>\n",
       "      <td>Service</td>\n",
       "      <td>No</td>\n",
       "      <td>3.0</td>\n",
       "      <td>7.0</td>\n",
       "      <td>6.9</td>\n",
       "    </tr>\n",
       "    <tr>\n",
       "      <th>...</th>\n",
       "      <td>...</td>\n",
       "      <td>...</td>\n",
       "      <td>...</td>\n",
       "      <td>...</td>\n",
       "      <td>...</td>\n",
       "      <td>...</td>\n",
       "      <td>...</td>\n",
       "    </tr>\n",
       "    <tr>\n",
       "      <th>33871</th>\n",
       "      <td>2008-10-02</td>\n",
       "      <td>Female</td>\n",
       "      <td>Service</td>\n",
       "      <td>Yes</td>\n",
       "      <td>1.0</td>\n",
       "      <td>2.0</td>\n",
       "      <td>6.1</td>\n",
       "    </tr>\n",
       "    <tr>\n",
       "      <th>33872</th>\n",
       "      <td>2008-03-31</td>\n",
       "      <td>Female</td>\n",
       "      <td>Product</td>\n",
       "      <td>Yes</td>\n",
       "      <td>2.0</td>\n",
       "      <td>4.0</td>\n",
       "      <td>5.9</td>\n",
       "    </tr>\n",
       "    <tr>\n",
       "      <th>33873</th>\n",
       "      <td>2008-02-12</td>\n",
       "      <td>Male</td>\n",
       "      <td>Service</td>\n",
       "      <td>No</td>\n",
       "      <td>4.0</td>\n",
       "      <td>7.0</td>\n",
       "      <td>9.6</td>\n",
       "    </tr>\n",
       "    <tr>\n",
       "      <th>33874</th>\n",
       "      <td>2008-02-06</td>\n",
       "      <td>Male</td>\n",
       "      <td>Service</td>\n",
       "      <td>No</td>\n",
       "      <td>3.0</td>\n",
       "      <td>6.0</td>\n",
       "      <td>6.7</td>\n",
       "    </tr>\n",
       "    <tr>\n",
       "      <th>33875</th>\n",
       "      <td>2008-08-05</td>\n",
       "      <td>Female</td>\n",
       "      <td>Product</td>\n",
       "      <td>No</td>\n",
       "      <td>2.0</td>\n",
       "      <td>2.0</td>\n",
       "      <td>2.0</td>\n",
       "    </tr>\n",
       "  </tbody>\n",
       "</table>\n",
       "<p>33876 rows × 7 columns</p>\n",
       "</div>"
      ],
      "text/plain": [
       "      Date of Joining  Gender Company Type WFH Setup Available  Designation  \\\n",
       "0          2008-09-30  Female      Service                  No          2.0   \n",
       "1          2008-11-30    Male      Service                 Yes          1.0   \n",
       "2          2008-03-10  Female      Product                 Yes          2.0   \n",
       "3          2008-11-03    Male      Service                 Yes          1.0   \n",
       "4          2008-07-24  Female      Service                  No          3.0   \n",
       "...               ...     ...          ...                 ...          ...   \n",
       "33871      2008-10-02  Female      Service                 Yes          1.0   \n",
       "33872      2008-03-31  Female      Product                 Yes          2.0   \n",
       "33873      2008-02-12    Male      Service                  No          4.0   \n",
       "33874      2008-02-06    Male      Service                  No          3.0   \n",
       "33875      2008-08-05  Female      Product                  No          2.0   \n",
       "\n",
       "       Resource Allocation  Mental Fatigue Score  \n",
       "0                      3.0                   3.8  \n",
       "1                      2.0                   5.0  \n",
       "2                      NaN                   5.8  \n",
       "3                      1.0                   2.6  \n",
       "4                      7.0                   6.9  \n",
       "...                    ...                   ...  \n",
       "33871                  2.0                   6.1  \n",
       "33872                  4.0                   5.9  \n",
       "33873                  7.0                   9.6  \n",
       "33874                  6.0                   6.7  \n",
       "33875                  2.0                   2.0  \n",
       "\n",
       "[33876 rows x 7 columns]"
      ]
     },
     "execution_count": 21,
     "metadata": {},
     "output_type": "execute_result"
    }
   ],
   "source": [
    "# Combine train and test data to make cleaning and preprocessing easier\n",
    "target = train_df[\"Burn Rate\"]\n",
    "test_id = test_df[\"Employee ID\"]\n",
    "\n",
    "train_df_1 = train_df.drop([\"Employee ID\", \"Burn Rate\"], axis = 1)\n",
    "test_df_1 = test_df.drop(\"Employee ID\", axis = 1)\n",
    "\n",
    "data = pd.concat([train_df_1, test_df_1], axis = 0).reset_index(drop = True)\n",
    "data"
   ]
  },
  {
   "cell_type": "code",
   "execution_count": 22,
   "id": "788167cf",
   "metadata": {},
   "outputs": [
    {
     "name": "stdout",
     "output_type": "stream",
     "text": [
      "<class 'pandas.core.frame.DataFrame'>\n",
      "RangeIndex: 33876 entries, 0 to 33875\n",
      "Data columns (total 7 columns):\n",
      " #   Column                Non-Null Count  Dtype  \n",
      "---  ------                --------------  -----  \n",
      " 0   Date of Joining       33876 non-null  object \n",
      " 1   Gender                33876 non-null  object \n",
      " 2   Company Type          33876 non-null  object \n",
      " 3   WFH Setup Available   33876 non-null  object \n",
      " 4   Designation           33876 non-null  float64\n",
      " 5   Resource Allocation   32598 non-null  float64\n",
      " 6   Mental Fatigue Score  31931 non-null  float64\n",
      "dtypes: float64(3), object(4)\n",
      "memory usage: 1.8+ MB\n"
     ]
    }
   ],
   "source": [
    "# print information about data\n",
    "data.info()"
   ]
  },
  {
   "cell_type": "code",
   "execution_count": 23,
   "id": "4e0005b7",
   "metadata": {},
   "outputs": [],
   "source": [
    "## Ensure proper data types\n",
    "data_1 = data.copy()\n",
    "\n",
    "# Change datatype of Date of Joining to datetime\n",
    "data_1[\"Date of Joining\"] = pd.to_datetime(data_1[\"Date of Joining\"])\n",
    "# Change datatype of Designation to object\n",
    "data_1[\"Designation\"] = data_1[\"Designation\"].astype(str)"
   ]
  },
  {
   "cell_type": "code",
   "execution_count": 24,
   "id": "cdd69874",
   "metadata": {},
   "outputs": [
    {
     "name": "stdout",
     "output_type": "stream",
     "text": [
      "<class 'pandas.core.frame.DataFrame'>\n",
      "RangeIndex: 33876 entries, 0 to 33875\n",
      "Data columns (total 7 columns):\n",
      " #   Column                Non-Null Count  Dtype         \n",
      "---  ------                --------------  -----         \n",
      " 0   Date of Joining       33876 non-null  datetime64[ns]\n",
      " 1   Gender                33876 non-null  object        \n",
      " 2   Company Type          33876 non-null  object        \n",
      " 3   WFH Setup Available   33876 non-null  object        \n",
      " 4   Designation           33876 non-null  object        \n",
      " 5   Resource Allocation   32598 non-null  float64       \n",
      " 6   Mental Fatigue Score  31931 non-null  float64       \n",
      "dtypes: datetime64[ns](1), float64(2), object(4)\n",
      "memory usage: 1.8+ MB\n"
     ]
    }
   ],
   "source": [
    "# print information about data_1\n",
    "data_1.info()"
   ]
  },
  {
   "cell_type": "code",
   "execution_count": 25,
   "id": "8145e056",
   "metadata": {},
   "outputs": [
    {
     "data": {
      "text/plain": [
       "['Resource Allocation', 'Mental Fatigue Score']"
      ]
     },
     "execution_count": 25,
     "metadata": {},
     "output_type": "execute_result"
    }
   ],
   "source": [
    "## Fill missing values for numeric columns\n",
    "data_2 = data_1.copy()\n",
    "\n",
    "# get numeric columns with missing values and store in lst_missing_numeric_col\n",
    "lst_missing_numeric_col = list(data_2.columns[data_2.isna().sum() > 0])\n",
    "lst_missing_numeric_col"
   ]
  },
  {
   "cell_type": "code",
   "execution_count": 26,
   "id": "c7d1e3e9",
   "metadata": {},
   "outputs": [
    {
     "data": {
      "text/html": [
       "<div>\n",
       "<style scoped>\n",
       "    .dataframe tbody tr th:only-of-type {\n",
       "        vertical-align: middle;\n",
       "    }\n",
       "\n",
       "    .dataframe tbody tr th {\n",
       "        vertical-align: top;\n",
       "    }\n",
       "\n",
       "    .dataframe thead th {\n",
       "        text-align: right;\n",
       "    }\n",
       "</style>\n",
       "<table border=\"1\" class=\"dataframe\">\n",
       "  <thead>\n",
       "    <tr style=\"text-align: right;\">\n",
       "      <th></th>\n",
       "      <th>Resource Allocation</th>\n",
       "      <th>Mental Fatigue Score</th>\n",
       "    </tr>\n",
       "  </thead>\n",
       "  <tbody>\n",
       "    <tr>\n",
       "      <th>count</th>\n",
       "      <td>32598.000000</td>\n",
       "      <td>31931.000000</td>\n",
       "    </tr>\n",
       "    <tr>\n",
       "      <th>mean</th>\n",
       "      <td>4.474446</td>\n",
       "      <td>5.726291</td>\n",
       "    </tr>\n",
       "    <tr>\n",
       "      <th>std</th>\n",
       "      <td>2.047210</td>\n",
       "      <td>1.918184</td>\n",
       "    </tr>\n",
       "    <tr>\n",
       "      <th>min</th>\n",
       "      <td>1.000000</td>\n",
       "      <td>0.000000</td>\n",
       "    </tr>\n",
       "    <tr>\n",
       "      <th>25%</th>\n",
       "      <td>3.000000</td>\n",
       "      <td>4.500000</td>\n",
       "    </tr>\n",
       "    <tr>\n",
       "      <th>50%</th>\n",
       "      <td>4.000000</td>\n",
       "      <td>5.900000</td>\n",
       "    </tr>\n",
       "    <tr>\n",
       "      <th>75%</th>\n",
       "      <td>6.000000</td>\n",
       "      <td>7.100000</td>\n",
       "    </tr>\n",
       "    <tr>\n",
       "      <th>max</th>\n",
       "      <td>10.000000</td>\n",
       "      <td>10.000000</td>\n",
       "    </tr>\n",
       "  </tbody>\n",
       "</table>\n",
       "</div>"
      ],
      "text/plain": [
       "       Resource Allocation  Mental Fatigue Score\n",
       "count         32598.000000          31931.000000\n",
       "mean              4.474446              5.726291\n",
       "std               2.047210              1.918184\n",
       "min               1.000000              0.000000\n",
       "25%               3.000000              4.500000\n",
       "50%               4.000000              5.900000\n",
       "75%               6.000000              7.100000\n",
       "max              10.000000             10.000000"
      ]
     },
     "execution_count": 26,
     "metadata": {},
     "output_type": "execute_result"
    }
   ],
   "source": [
    "# print description of the data in Resource Allocation and Mental Fatigue Score\n",
    "data_2[lst_missing_numeric_col].describe()"
   ]
  },
  {
   "cell_type": "code",
   "execution_count": 27,
   "id": "45db65e5",
   "metadata": {},
   "outputs": [],
   "source": [
    "# Fill Mental Fatigue Score with mean\n",
    "for col in lst_missing_numeric_col:\n",
    "    data_2[\"Mental Fatigue Score\"].fillna(data_2[\"Mental Fatigue Score\"].mean(), inplace = True)\n",
    "    \n",
    "# Fill Resource Allocation with median\n",
    "for col in lst_missing_numeric_col:\n",
    "    data_2[\"Resource Allocation\"].fillna(data_2[\"Resource Allocation\"].median(), inplace = True)"
   ]
  },
  {
   "cell_type": "code",
   "execution_count": 28,
   "id": "8f456e26",
   "metadata": {},
   "outputs": [
    {
     "data": {
      "text/plain": [
       "Date of Joining         0\n",
       "Gender                  0\n",
       "Company Type            0\n",
       "WFH Setup Available     0\n",
       "Designation             0\n",
       "Resource Allocation     0\n",
       "Mental Fatigue Score    0\n",
       "dtype: int64"
      ]
     },
     "execution_count": 28,
     "metadata": {},
     "output_type": "execute_result"
    }
   ],
   "source": [
    "data_2.isna().sum()"
   ]
  },
  {
   "cell_type": "code",
   "execution_count": 29,
   "id": "5f738066",
   "metadata": {},
   "outputs": [],
   "source": [
    "# drop irrelevant columns\n",
    "data_3 = data_2.copy()\n",
    "\n",
    "# drop Date of Joining column\n",
    "data_3 = data_3.drop(\"Date of Joining\", axis = 1)\n",
    "\n",
    "# drop company type column\n",
    "data_3 = data_3.drop(\"Company Type\", axis = 1)"
   ]
  },
  {
   "cell_type": "code",
   "execution_count": 30,
   "id": "935b5fbb",
   "metadata": {},
   "outputs": [
    {
     "data": {
      "text/html": [
       "<div>\n",
       "<style scoped>\n",
       "    .dataframe tbody tr th:only-of-type {\n",
       "        vertical-align: middle;\n",
       "    }\n",
       "\n",
       "    .dataframe tbody tr th {\n",
       "        vertical-align: top;\n",
       "    }\n",
       "\n",
       "    .dataframe thead th {\n",
       "        text-align: right;\n",
       "    }\n",
       "</style>\n",
       "<table border=\"1\" class=\"dataframe\">\n",
       "  <thead>\n",
       "    <tr style=\"text-align: right;\">\n",
       "      <th></th>\n",
       "      <th>Gender</th>\n",
       "      <th>WFH Setup Available</th>\n",
       "      <th>Designation</th>\n",
       "      <th>Resource Allocation</th>\n",
       "      <th>Mental Fatigue Score</th>\n",
       "    </tr>\n",
       "  </thead>\n",
       "  <tbody>\n",
       "    <tr>\n",
       "      <th>0</th>\n",
       "      <td>Female</td>\n",
       "      <td>No</td>\n",
       "      <td>2.0</td>\n",
       "      <td>3.0</td>\n",
       "      <td>3.8</td>\n",
       "    </tr>\n",
       "    <tr>\n",
       "      <th>1</th>\n",
       "      <td>Male</td>\n",
       "      <td>Yes</td>\n",
       "      <td>1.0</td>\n",
       "      <td>2.0</td>\n",
       "      <td>5.0</td>\n",
       "    </tr>\n",
       "    <tr>\n",
       "      <th>2</th>\n",
       "      <td>Female</td>\n",
       "      <td>Yes</td>\n",
       "      <td>2.0</td>\n",
       "      <td>4.0</td>\n",
       "      <td>5.8</td>\n",
       "    </tr>\n",
       "  </tbody>\n",
       "</table>\n",
       "</div>"
      ],
      "text/plain": [
       "   Gender WFH Setup Available Designation  Resource Allocation  \\\n",
       "0  Female                  No         2.0                  3.0   \n",
       "1    Male                 Yes         1.0                  2.0   \n",
       "2  Female                 Yes         2.0                  4.0   \n",
       "\n",
       "   Mental Fatigue Score  \n",
       "0                   3.8  \n",
       "1                   5.0  \n",
       "2                   5.8  "
      ]
     },
     "execution_count": 30,
     "metadata": {},
     "output_type": "execute_result"
    }
   ],
   "source": [
    "# view first 3 rows of data_3\n",
    "data_3.head(3)"
   ]
  },
  {
   "cell_type": "code",
   "execution_count": 31,
   "id": "358fcbbc",
   "metadata": {},
   "outputs": [
    {
     "data": {
      "text/html": [
       "<div>\n",
       "<style scoped>\n",
       "    .dataframe tbody tr th:only-of-type {\n",
       "        vertical-align: middle;\n",
       "    }\n",
       "\n",
       "    .dataframe tbody tr th {\n",
       "        vertical-align: top;\n",
       "    }\n",
       "\n",
       "    .dataframe thead th {\n",
       "        text-align: right;\n",
       "    }\n",
       "</style>\n",
       "<table border=\"1\" class=\"dataframe\">\n",
       "  <thead>\n",
       "    <tr style=\"text-align: right;\">\n",
       "      <th></th>\n",
       "      <th>Resource Allocation</th>\n",
       "      <th>Mental Fatigue Score</th>\n",
       "      <th>Gender_Female</th>\n",
       "      <th>Gender_Male</th>\n",
       "      <th>WFH Setup Available_No</th>\n",
       "      <th>WFH Setup Available_Yes</th>\n",
       "      <th>Designation_0.0</th>\n",
       "      <th>Designation_1.0</th>\n",
       "      <th>Designation_2.0</th>\n",
       "      <th>Designation_3.0</th>\n",
       "      <th>Designation_4.0</th>\n",
       "      <th>Designation_5.0</th>\n",
       "    </tr>\n",
       "  </thead>\n",
       "  <tbody>\n",
       "    <tr>\n",
       "      <th>0</th>\n",
       "      <td>3.0</td>\n",
       "      <td>3.8</td>\n",
       "      <td>1</td>\n",
       "      <td>0</td>\n",
       "      <td>1</td>\n",
       "      <td>0</td>\n",
       "      <td>0</td>\n",
       "      <td>0</td>\n",
       "      <td>1</td>\n",
       "      <td>0</td>\n",
       "      <td>0</td>\n",
       "      <td>0</td>\n",
       "    </tr>\n",
       "    <tr>\n",
       "      <th>1</th>\n",
       "      <td>2.0</td>\n",
       "      <td>5.0</td>\n",
       "      <td>0</td>\n",
       "      <td>1</td>\n",
       "      <td>0</td>\n",
       "      <td>1</td>\n",
       "      <td>0</td>\n",
       "      <td>1</td>\n",
       "      <td>0</td>\n",
       "      <td>0</td>\n",
       "      <td>0</td>\n",
       "      <td>0</td>\n",
       "    </tr>\n",
       "    <tr>\n",
       "      <th>2</th>\n",
       "      <td>4.0</td>\n",
       "      <td>5.8</td>\n",
       "      <td>1</td>\n",
       "      <td>0</td>\n",
       "      <td>0</td>\n",
       "      <td>1</td>\n",
       "      <td>0</td>\n",
       "      <td>0</td>\n",
       "      <td>1</td>\n",
       "      <td>0</td>\n",
       "      <td>0</td>\n",
       "      <td>0</td>\n",
       "    </tr>\n",
       "    <tr>\n",
       "      <th>3</th>\n",
       "      <td>1.0</td>\n",
       "      <td>2.6</td>\n",
       "      <td>0</td>\n",
       "      <td>1</td>\n",
       "      <td>0</td>\n",
       "      <td>1</td>\n",
       "      <td>0</td>\n",
       "      <td>1</td>\n",
       "      <td>0</td>\n",
       "      <td>0</td>\n",
       "      <td>0</td>\n",
       "      <td>0</td>\n",
       "    </tr>\n",
       "    <tr>\n",
       "      <th>4</th>\n",
       "      <td>7.0</td>\n",
       "      <td>6.9</td>\n",
       "      <td>1</td>\n",
       "      <td>0</td>\n",
       "      <td>1</td>\n",
       "      <td>0</td>\n",
       "      <td>0</td>\n",
       "      <td>0</td>\n",
       "      <td>0</td>\n",
       "      <td>1</td>\n",
       "      <td>0</td>\n",
       "      <td>0</td>\n",
       "    </tr>\n",
       "  </tbody>\n",
       "</table>\n",
       "</div>"
      ],
      "text/plain": [
       "   Resource Allocation  Mental Fatigue Score  Gender_Female  Gender_Male  \\\n",
       "0                  3.0                   3.8              1            0   \n",
       "1                  2.0                   5.0              0            1   \n",
       "2                  4.0                   5.8              1            0   \n",
       "3                  1.0                   2.6              0            1   \n",
       "4                  7.0                   6.9              1            0   \n",
       "\n",
       "   WFH Setup Available_No  WFH Setup Available_Yes  Designation_0.0  \\\n",
       "0                       1                        0                0   \n",
       "1                       0                        1                0   \n",
       "2                       0                        1                0   \n",
       "3                       0                        1                0   \n",
       "4                       1                        0                0   \n",
       "\n",
       "   Designation_1.0  Designation_2.0  Designation_3.0  Designation_4.0  \\\n",
       "0                0                1                0                0   \n",
       "1                1                0                0                0   \n",
       "2                0                1                0                0   \n",
       "3                1                0                0                0   \n",
       "4                0                0                1                0   \n",
       "\n",
       "   Designation_5.0  \n",
       "0                0  \n",
       "1                0  \n",
       "2                0  \n",
       "3                0  \n",
       "4                0  "
      ]
     },
     "execution_count": 31,
     "metadata": {},
     "output_type": "execute_result"
    }
   ],
   "source": [
    "# Encode categorical features\n",
    "data_4 = data_3.copy()\n",
    "data_4 = pd.get_dummies(data_4)\n",
    "data_4.head()"
   ]
  },
  {
   "cell_type": "markdown",
   "id": "ef4f71e6",
   "metadata": {},
   "source": [
    "#### Scaling"
   ]
  },
  {
   "cell_type": "code",
   "execution_count": 34,
   "id": "f289fd6b",
   "metadata": {},
   "outputs": [
    {
     "data": {
      "text/html": [
       "<div>\n",
       "<style scoped>\n",
       "    .dataframe tbody tr th:only-of-type {\n",
       "        vertical-align: middle;\n",
       "    }\n",
       "\n",
       "    .dataframe tbody tr th {\n",
       "        vertical-align: top;\n",
       "    }\n",
       "\n",
       "    .dataframe thead th {\n",
       "        text-align: right;\n",
       "    }\n",
       "</style>\n",
       "<table border=\"1\" class=\"dataframe\">\n",
       "  <thead>\n",
       "    <tr style=\"text-align: right;\">\n",
       "      <th></th>\n",
       "      <th>Resource Allocation</th>\n",
       "      <th>Mental Fatigue Score</th>\n",
       "      <th>Gender_Female</th>\n",
       "      <th>Gender_Male</th>\n",
       "      <th>WFH Setup Available_No</th>\n",
       "      <th>WFH Setup Available_Yes</th>\n",
       "      <th>Designation_0.0</th>\n",
       "      <th>Designation_1.0</th>\n",
       "      <th>Designation_2.0</th>\n",
       "      <th>Designation_3.0</th>\n",
       "      <th>Designation_4.0</th>\n",
       "      <th>Designation_5.0</th>\n",
       "    </tr>\n",
       "  </thead>\n",
       "  <tbody>\n",
       "    <tr>\n",
       "      <th>0</th>\n",
       "      <td>-0.724569</td>\n",
       "      <td>-1.034376</td>\n",
       "      <td>0.950678</td>\n",
       "      <td>-0.950678</td>\n",
       "      <td>1.085403</td>\n",
       "      <td>-1.085403</td>\n",
       "      <td>-0.268691</td>\n",
       "      <td>-0.520349</td>\n",
       "      <td>1.415436</td>\n",
       "      <td>-0.60031</td>\n",
       "      <td>-0.342304</td>\n",
       "      <td>-0.130937</td>\n",
       "    </tr>\n",
       "    <tr>\n",
       "      <th>1</th>\n",
       "      <td>-1.222026</td>\n",
       "      <td>-0.390002</td>\n",
       "      <td>-1.051881</td>\n",
       "      <td>1.051881</td>\n",
       "      <td>-0.921316</td>\n",
       "      <td>0.921316</td>\n",
       "      <td>-0.268691</td>\n",
       "      <td>1.921787</td>\n",
       "      <td>-0.706496</td>\n",
       "      <td>-0.60031</td>\n",
       "      <td>-0.342304</td>\n",
       "      <td>-0.130937</td>\n",
       "    </tr>\n",
       "  </tbody>\n",
       "</table>\n",
       "</div>"
      ],
      "text/plain": [
       "   Resource Allocation  Mental Fatigue Score  Gender_Female  Gender_Male  \\\n",
       "0            -0.724569             -1.034376       0.950678    -0.950678   \n",
       "1            -1.222026             -0.390002      -1.051881     1.051881   \n",
       "\n",
       "   WFH Setup Available_No  WFH Setup Available_Yes  Designation_0.0  \\\n",
       "0                1.085403                -1.085403        -0.268691   \n",
       "1               -0.921316                 0.921316        -0.268691   \n",
       "\n",
       "   Designation_1.0  Designation_2.0  Designation_3.0  Designation_4.0  \\\n",
       "0        -0.520349         1.415436         -0.60031        -0.342304   \n",
       "1         1.921787        -0.706496         -0.60031        -0.342304   \n",
       "\n",
       "   Designation_5.0  \n",
       "0        -0.130937  \n",
       "1        -0.130937  "
      ]
     },
     "execution_count": 34,
     "metadata": {},
     "output_type": "execute_result"
    }
   ],
   "source": [
    "# scale data\n",
    "data_5 = data_4.copy()\n",
    "scaler = StandardScaler()\n",
    "scaler.fit(data_5)\n",
    "data_6 = scaler.transform(data_5)\n",
    "\n",
    "data_6 = pd.DataFrame(data_6, index = data_5.index, columns = data_5.columns)\n",
    "data_6.head(2)"
   ]
  },
  {
   "cell_type": "code",
   "execution_count": 36,
   "id": "4fc74a66",
   "metadata": {},
   "outputs": [],
   "source": [
    "# split the data back to get the train and test data\n",
    "data_7 = data_6.copy()\n",
    "train_data_final = data_7.loc[:train_df.index.max(),  :].copy()\n",
    "test_data_final = data_7.loc[train_df.index.max() + 1:, :].reset_index(drop = True).copy()\n"
   ]
  },
  {
   "cell_type": "code",
   "execution_count": 37,
   "id": "74a24aef",
   "metadata": {},
   "outputs": [
    {
     "data": {
      "text/plain": [
       "<AxesSubplot:>"
      ]
     },
     "execution_count": 37,
     "metadata": {},
     "output_type": "execute_result"
    },
    {
     "data": {
      "image/png": "[encoded data removed]",
      "text/plain": [
       "<Figure size 1080x504 with 2 Axes>"
      ]
     },
     "metadata": {},
     "output_type": "display_data"
    }
   ],
   "source": [
    "# Plot heatmap to view how correlated the features are with the target feature\n",
    "train_data_final_1 = train_data_final.copy()\n",
    "train_data_final_1[\"Burn Rate\"] = target\n",
    "\n",
    "fig = plt.subplots(figsize = (15, 7))\n",
    "corr = train_data_final_1.corr()\n",
    "sns.heatmap(corr, annot = True)"
   ]
  },
  {
   "cell_type": "markdown",
   "id": "a7882f9b",
   "metadata": {},
   "source": [
    "### Model Training"
   ]
  },
  {
   "cell_type": "code",
   "execution_count": 38,
   "id": "82008cc1",
   "metadata": {},
   "outputs": [],
   "source": [
    "## Prepare data for feeding into the models\n",
    "X = train_data_final.copy()\n",
    "y = target"
   ]
  },
  {
   "cell_type": "code",
   "execution_count": 39,
   "id": "56a61261",
   "metadata": {},
   "outputs": [
    {
     "data": {
      "text/html": [
       "<div>\n",
       "<style scoped>\n",
       "    .dataframe tbody tr th:only-of-type {\n",
       "        vertical-align: middle;\n",
       "    }\n",
       "\n",
       "    .dataframe tbody tr th {\n",
       "        vertical-align: top;\n",
       "    }\n",
       "\n",
       "    .dataframe thead th {\n",
       "        text-align: right;\n",
       "    }\n",
       "</style>\n",
       "<table border=\"1\" class=\"dataframe\">\n",
       "  <thead>\n",
       "    <tr style=\"text-align: right;\">\n",
       "      <th></th>\n",
       "      <th>Resource Allocation</th>\n",
       "      <th>Mental Fatigue Score</th>\n",
       "      <th>Gender_Female</th>\n",
       "      <th>Gender_Male</th>\n",
       "      <th>WFH Setup Available_No</th>\n",
       "      <th>WFH Setup Available_Yes</th>\n",
       "      <th>Designation_0.0</th>\n",
       "      <th>Designation_1.0</th>\n",
       "      <th>Designation_2.0</th>\n",
       "      <th>Designation_3.0</th>\n",
       "      <th>Designation_4.0</th>\n",
       "      <th>Designation_5.0</th>\n",
       "    </tr>\n",
       "  </thead>\n",
       "  <tbody>\n",
       "    <tr>\n",
       "      <th>0</th>\n",
       "      <td>-0.724569</td>\n",
       "      <td>-1.034376</td>\n",
       "      <td>0.950678</td>\n",
       "      <td>-0.950678</td>\n",
       "      <td>1.085403</td>\n",
       "      <td>-1.085403</td>\n",
       "      <td>-0.268691</td>\n",
       "      <td>-0.520349</td>\n",
       "      <td>1.415436</td>\n",
       "      <td>-0.600310</td>\n",
       "      <td>-0.342304</td>\n",
       "      <td>-0.130937</td>\n",
       "    </tr>\n",
       "    <tr>\n",
       "      <th>1</th>\n",
       "      <td>-1.222026</td>\n",
       "      <td>-0.390002</td>\n",
       "      <td>-1.051881</td>\n",
       "      <td>1.051881</td>\n",
       "      <td>-0.921316</td>\n",
       "      <td>0.921316</td>\n",
       "      <td>-0.268691</td>\n",
       "      <td>1.921787</td>\n",
       "      <td>-0.706496</td>\n",
       "      <td>-0.600310</td>\n",
       "      <td>-0.342304</td>\n",
       "      <td>-0.130937</td>\n",
       "    </tr>\n",
       "    <tr>\n",
       "      <th>2</th>\n",
       "      <td>-0.227113</td>\n",
       "      <td>0.039580</td>\n",
       "      <td>0.950678</td>\n",
       "      <td>-0.950678</td>\n",
       "      <td>-0.921316</td>\n",
       "      <td>0.921316</td>\n",
       "      <td>-0.268691</td>\n",
       "      <td>-0.520349</td>\n",
       "      <td>1.415436</td>\n",
       "      <td>-0.600310</td>\n",
       "      <td>-0.342304</td>\n",
       "      <td>-0.130937</td>\n",
       "    </tr>\n",
       "    <tr>\n",
       "      <th>3</th>\n",
       "      <td>-1.719483</td>\n",
       "      <td>-1.678749</td>\n",
       "      <td>-1.051881</td>\n",
       "      <td>1.051881</td>\n",
       "      <td>-0.921316</td>\n",
       "      <td>0.921316</td>\n",
       "      <td>-0.268691</td>\n",
       "      <td>1.921787</td>\n",
       "      <td>-0.706496</td>\n",
       "      <td>-0.600310</td>\n",
       "      <td>-0.342304</td>\n",
       "      <td>-0.130937</td>\n",
       "    </tr>\n",
       "    <tr>\n",
       "      <th>4</th>\n",
       "      <td>1.265258</td>\n",
       "      <td>0.630256</td>\n",
       "      <td>0.950678</td>\n",
       "      <td>-0.950678</td>\n",
       "      <td>1.085403</td>\n",
       "      <td>-1.085403</td>\n",
       "      <td>-0.268691</td>\n",
       "      <td>-0.520349</td>\n",
       "      <td>-0.706496</td>\n",
       "      <td>1.665805</td>\n",
       "      <td>-0.342304</td>\n",
       "      <td>-0.130937</td>\n",
       "    </tr>\n",
       "  </tbody>\n",
       "</table>\n",
       "</div>"
      ],
      "text/plain": [
       "   Resource Allocation  Mental Fatigue Score  Gender_Female  Gender_Male  \\\n",
       "0            -0.724569             -1.034376       0.950678    -0.950678   \n",
       "1            -1.222026             -0.390002      -1.051881     1.051881   \n",
       "2            -0.227113              0.039580       0.950678    -0.950678   \n",
       "3            -1.719483             -1.678749      -1.051881     1.051881   \n",
       "4             1.265258              0.630256       0.950678    -0.950678   \n",
       "\n",
       "   WFH Setup Available_No  WFH Setup Available_Yes  Designation_0.0  \\\n",
       "0                1.085403                -1.085403        -0.268691   \n",
       "1               -0.921316                 0.921316        -0.268691   \n",
       "2               -0.921316                 0.921316        -0.268691   \n",
       "3               -0.921316                 0.921316        -0.268691   \n",
       "4                1.085403                -1.085403        -0.268691   \n",
       "\n",
       "   Designation_1.0  Designation_2.0  Designation_3.0  Designation_4.0  \\\n",
       "0        -0.520349         1.415436        -0.600310        -0.342304   \n",
       "1         1.921787        -0.706496        -0.600310        -0.342304   \n",
       "2        -0.520349         1.415436        -0.600310        -0.342304   \n",
       "3         1.921787        -0.706496        -0.600310        -0.342304   \n",
       "4        -0.520349        -0.706496         1.665805        -0.342304   \n",
       "\n",
       "   Designation_5.0  \n",
       "0        -0.130937  \n",
       "1        -0.130937  \n",
       "2        -0.130937  \n",
       "3        -0.130937  \n",
       "4        -0.130937  "
      ]
     },
     "execution_count": 39,
     "metadata": {},
     "output_type": "execute_result"
    }
   ],
   "source": [
    "# view first 5 rows of X\n",
    "X.head()"
   ]
  },
  {
   "cell_type": "code",
   "execution_count": 40,
   "id": "2ba07513",
   "metadata": {},
   "outputs": [
    {
     "data": {
      "text/plain": [
       "0    0.16\n",
       "1    0.36\n",
       "2    0.49\n",
       "3    0.20\n",
       "4    0.52\n",
       "Name: Burn Rate, dtype: float64"
      ]
     },
     "execution_count": 40,
     "metadata": {},
     "output_type": "execute_result"
    }
   ],
   "source": [
    "# view first 5 rows of y\n",
    "y.head()"
   ]
  },
  {
   "cell_type": "code",
   "execution_count": 41,
   "id": "ac1532da",
   "metadata": {},
   "outputs": [],
   "source": [
    "# Split X and y into training and validation data\n",
    "X_train, X_val, y_train, y_val = train_test_split(X, y, test_size = 0.2, random_state = 42)"
   ]
  },
  {
   "cell_type": "code",
   "execution_count": 42,
   "id": "992cccc9",
   "metadata": {},
   "outputs": [
    {
     "name": "stdout",
     "output_type": "stream",
     "text": [
      "Linear Regression trained\n",
      "Linear Regression (L2 Regularization) trained\n",
      "Linear Regression (L1 Regularization) trained\n",
      "K-Nearest Neighbors trained\n",
      "Decision Tree trained\n",
      "Random Forest trained\n",
      "Gradient Boosting trained\n",
      "CatBoost trained\n"
     ]
    }
   ],
   "source": [
    "# Train models\n",
    "models = {\n",
    "    \"Linear Regression\": LinearRegression(),\n",
    "    \"Linear Regression (L2 Regularization)\": Ridge(),\n",
    "    \"Linear Regression (L1 Regularization)\": Lasso(),\n",
    "    \"K-Nearest Neighbors\": KNeighborsRegressor(),\n",
    "    \"Decision Tree\": DecisionTreeRegressor(),\n",
    "    \"Random Forest\": RandomForestRegressor(),\n",
    "    \"Gradient Boosting\": GradientBoostingRegressor(),\n",
    "    \"CatBoost\": CatBoostRegressor(verbose = 0)\n",
    "    \n",
    "}\n",
    "\n",
    "for name, model in models.items():\n",
    "    model.fit(X_train, y_train)\n",
    "    print(name + \" trained\")"
   ]
  },
  {
   "cell_type": "code",
   "execution_count": 43,
   "id": "aa70f339",
   "metadata": {},
   "outputs": [
    {
     "name": "stdout",
     "output_type": "stream",
     "text": [
      "Linear Regression R*2 Score: 0.86933\n",
      "Linear Regression (L2 Regularization) R*2 Score: 0.86933\n",
      "Linear Regression (L1 Regularization) R*2 Score: -0.00000\n",
      "K-Nearest Neighbors R*2 Score: 0.89038\n",
      "Decision Tree R*2 Score: 0.89335\n",
      "Random Forest R*2 Score: 0.89780\n",
      "Gradient Boosting R*2 Score: 0.90037\n",
      "CatBoost R*2 Score: 0.90896\n"
     ]
    }
   ],
   "source": [
    "# print R squared score of models\n",
    "for name, model in models.items():\n",
    "    print(name + \" R*2 Score: {:.5f}\".format(model.score(X_val, y_val)))"
   ]
  },
  {
   "cell_type": "code",
   "execution_count": 44,
   "id": "cc9e35d5",
   "metadata": {},
   "outputs": [],
   "source": [
    "# (Ensembling) Average prediction of the 2 best models up in parallel \n",
    "predictions = (\n",
    "    0.6 * models[\"CatBoost\"].predict(test_data_final) +\n",
    "    0.4 * models[\"Gradient Boosting\"].predict(test_data_final)     \n",
    ")"
   ]
  },
  {
   "cell_type": "code",
   "execution_count": 45,
   "id": "5cefc8e8",
   "metadata": {},
   "outputs": [
    {
     "data": {
      "text/plain": [
       "array([0.62, 0.35, 0.42, ..., 0.82, 0.58, 0.12])"
      ]
     },
     "execution_count": 45,
     "metadata": {},
     "output_type": "execute_result"
    }
   ],
   "source": [
    "# generate predictions and store in predictions\n",
    "predictions = np.round(predictions, 2)\n",
    "predictions"
   ]
  },
  {
   "cell_type": "code",
   "execution_count": 46,
   "id": "9e4aa64e",
   "metadata": {},
   "outputs": [
    {
     "data": {
      "text/html": [
       "<div>\n",
       "<style scoped>\n",
       "    .dataframe tbody tr th:only-of-type {\n",
       "        vertical-align: middle;\n",
       "    }\n",
       "\n",
       "    .dataframe tbody tr th {\n",
       "        vertical-align: top;\n",
       "    }\n",
       "\n",
       "    .dataframe thead th {\n",
       "        text-align: right;\n",
       "    }\n",
       "</style>\n",
       "<table border=\"1\" class=\"dataframe\">\n",
       "  <thead>\n",
       "    <tr style=\"text-align: right;\">\n",
       "      <th></th>\n",
       "      <th>Employee ID</th>\n",
       "      <th>Burn Rate</th>\n",
       "    </tr>\n",
       "  </thead>\n",
       "  <tbody>\n",
       "    <tr>\n",
       "      <th>0</th>\n",
       "      <td>fffe32003000360033003200</td>\n",
       "      <td>0.16</td>\n",
       "    </tr>\n",
       "    <tr>\n",
       "      <th>1</th>\n",
       "      <td>fffe3700360033003500</td>\n",
       "      <td>0.36</td>\n",
       "    </tr>\n",
       "    <tr>\n",
       "      <th>2</th>\n",
       "      <td>fffe31003300320037003900</td>\n",
       "      <td>0.49</td>\n",
       "    </tr>\n",
       "    <tr>\n",
       "      <th>3</th>\n",
       "      <td>fffe32003400380032003900</td>\n",
       "      <td>0.20</td>\n",
       "    </tr>\n",
       "    <tr>\n",
       "      <th>4</th>\n",
       "      <td>fffe31003900340031003600</td>\n",
       "      <td>0.52</td>\n",
       "    </tr>\n",
       "  </tbody>\n",
       "</table>\n",
       "</div>"
      ],
      "text/plain": [
       "                Employee ID  Burn Rate\n",
       "0  fffe32003000360033003200       0.16\n",
       "1      fffe3700360033003500       0.36\n",
       "2  fffe31003300320037003900       0.49\n",
       "3  fffe32003400380032003900       0.20\n",
       "4  fffe31003900340031003600       0.52"
      ]
     },
     "execution_count": 46,
     "metadata": {},
     "output_type": "execute_result"
    }
   ],
   "source": [
    "# view sample submission\n",
    "sample_submission = pd.read_csv(\"sample_submission_burn_out_rate.csv\")\n",
    "sample_submission"
   ]
  },
  {
   "cell_type": "code",
   "execution_count": 47,
   "id": "0d7b03d0",
   "metadata": {},
   "outputs": [
    {
     "data": {
      "text/html": [
       "<div>\n",
       "<style scoped>\n",
       "    .dataframe tbody tr th:only-of-type {\n",
       "        vertical-align: middle;\n",
       "    }\n",
       "\n",
       "    .dataframe tbody tr th {\n",
       "        vertical-align: top;\n",
       "    }\n",
       "\n",
       "    .dataframe thead th {\n",
       "        text-align: right;\n",
       "    }\n",
       "</style>\n",
       "<table border=\"1\" class=\"dataframe\">\n",
       "  <thead>\n",
       "    <tr style=\"text-align: right;\">\n",
       "      <th></th>\n",
       "      <th>Employee ID</th>\n",
       "      <th>Burn Rate</th>\n",
       "    </tr>\n",
       "  </thead>\n",
       "  <tbody>\n",
       "    <tr>\n",
       "      <th>0</th>\n",
       "      <td>fffe31003300390039003000</td>\n",
       "      <td>0.62</td>\n",
       "    </tr>\n",
       "    <tr>\n",
       "      <th>1</th>\n",
       "      <td>fffe31003300310037003800</td>\n",
       "      <td>0.35</td>\n",
       "    </tr>\n",
       "    <tr>\n",
       "      <th>2</th>\n",
       "      <td>fffe33003400380035003900</td>\n",
       "      <td>0.42</td>\n",
       "    </tr>\n",
       "    <tr>\n",
       "      <th>3</th>\n",
       "      <td>fffe3100370039003200</td>\n",
       "      <td>0.38</td>\n",
       "    </tr>\n",
       "    <tr>\n",
       "      <th>4</th>\n",
       "      <td>fffe32003600390036003700</td>\n",
       "      <td>0.53</td>\n",
       "    </tr>\n",
       "  </tbody>\n",
       "</table>\n",
       "</div>"
      ],
      "text/plain": [
       "                Employee ID  Burn Rate\n",
       "0  fffe31003300390039003000       0.62\n",
       "1  fffe31003300310037003800       0.35\n",
       "2  fffe33003400380035003900       0.42\n",
       "3      fffe3100370039003200       0.38\n",
       "4  fffe32003600390036003700       0.53"
      ]
     },
     "execution_count": 47,
     "metadata": {},
     "output_type": "execute_result"
    }
   ],
   "source": [
    "# Use predictions to generate submission file as csv\n",
    "submission = pd.concat([test_id, pd.Series(predictions, name = \"Burn Rate\")], axis = 1)\n",
    "submission.head()"
   ]
  }
 ],
 "metadata": {
  "kernelspec": {
   "display_name": "Python 3 (ipykernel)",
   "language": "python",
   "name": "python3"
  },
  "language_info": {
   "codemirror_mode": {
    "name": "ipython",
    "version": 3
   },
   "file_extension": ".py",
   "mimetype": "text/x-python",
   "name": "python",
   "nbconvert_exporter": "python",
   "pygments_lexer": "ipython3",
   "version": "3.9.7"
  }
 },
 "nbformat": 4,
 "nbformat_minor": 5
}
